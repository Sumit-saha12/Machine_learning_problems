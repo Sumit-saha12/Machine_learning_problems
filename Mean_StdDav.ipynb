{
 "cells": [
  {
   "cell_type": "markdown",
   "id": "8c38872b",
   "metadata": {},
   "source": [
    "## Data and Library"
   ]
  },
  {
   "cell_type": "code",
   "execution_count": 2,
   "id": "dfbf01c1",
   "metadata": {},
   "outputs": [],
   "source": [
    "import numpy as np"
   ]
  },
  {
   "cell_type": "code",
   "execution_count": 5,
   "id": "7acb4787",
   "metadata": {},
   "outputs": [
    {
     "data": {
      "text/plain": [
       "array([1, 2, 3, 7, 8, 9])"
      ]
     },
     "execution_count": 5,
     "metadata": {},
     "output_type": "execute_result"
    }
   ],
   "source": [
    "a=np.array([1,2,3,7,8,9])\n",
    "a"
   ]
  },
  {
   "cell_type": "markdown",
   "id": "aaa2e027",
   "metadata": {},
   "source": [
    "## Mean"
   ]
  },
  {
   "cell_type": "code",
   "execution_count": 6,
   "id": "bccb3c99",
   "metadata": {},
   "outputs": [
    {
     "name": "stdout",
     "output_type": "stream",
     "text": [
      "5.0\n"
     ]
    }
   ],
   "source": [
    "sum=0\n",
    "for i in a:\n",
    "    sum=sum+i\n",
    "print(sum/len(a))"
   ]
  },
  {
   "cell_type": "code",
   "execution_count": 10,
   "id": "60cd3ac6",
   "metadata": {},
   "outputs": [
    {
     "data": {
      "text/plain": [
       "5.0"
      ]
     },
     "execution_count": 10,
     "metadata": {},
     "output_type": "execute_result"
    }
   ],
   "source": [
    "a.mean()"
   ]
  },
  {
   "cell_type": "code",
   "execution_count": 11,
   "id": "51f14926",
   "metadata": {},
   "outputs": [],
   "source": [
    "mean=a.mean()"
   ]
  },
  {
   "cell_type": "markdown",
   "id": "9482be4a",
   "metadata": {},
   "source": [
    "## Standard Daviation"
   ]
  },
  {
   "cell_type": "code",
   "execution_count": 12,
   "id": "a62d8667",
   "metadata": {},
   "outputs": [],
   "source": [
    "mean = a.mean()"
   ]
  },
  {
   "cell_type": "code",
   "execution_count": null,
   "id": "94932bb3",
   "metadata": {},
   "outputs": [],
   "source": [
    "sum=\n",
    "for i in a:\n",
    "    "
   ]
  }
 ],
 "metadata": {
  "kernelspec": {
   "display_name": "Python 3 (ipykernel)",
   "language": "python",
   "name": "python3"
  },
  "language_info": {
   "codemirror_mode": {
    "name": "ipython",
    "version": 3
   },
   "file_extension": ".py",
   "mimetype": "text/x-python",
   "name": "python",
   "nbconvert_exporter": "python",
   "pygments_lexer": "ipython3",
   "version": "3.11.5"
  }
 },
 "nbformat": 4,
 "nbformat_minor": 5
}
